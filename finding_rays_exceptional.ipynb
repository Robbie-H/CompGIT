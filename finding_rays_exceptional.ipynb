{
 "cells": [
  {
   "cell_type": "code",
   "execution_count": 5,
   "id": "ba3c5a94-cac4-4089-87a1-df0e6d4ac5ff",
   "metadata": {},
   "outputs": [
    {
     "name": "stdout",
     "output_type": "stream",
     "text": [
      "[        1         0]\n",
      "[     -3/2 1/2*sqrt3] \n",
      "\n",
      "[   0    1   -1    0]\n",
      "[   0    0    1   -1]\n",
      "[   0    0    0    1]\n",
      "[ 1/2 -1/2 -1/2 -1/2] \n",
      "\n"
     ]
    }
   ],
   "source": [
    "#since we are interested in the dual of the lattice where the root system lives, we will have the simple roots as rows and not columns.\n",
    "#Dealing with G2\n",
    "simplerootsG2=matrix(QQ[sqrt(3)], [[1, 0], [-3/2, sqrt(3)/2]])\n",
    "print(simplerootsG2, '\\n')\n",
    "\n",
    "#Dealing with F4\n",
    "simplerootsF4=matrix(QQ, [[0,1,-1,0], [0,0,1,-1], [0,0,0,1], [1/2, -1/2, -1/2, -1/2]])\n",
    "print(simplerootsF4, '\\n')\n",
    "\n",
    "simpleroots=simplerootsG2\n",
    "\n",
    "#linearsystem=simpleroots[[0,1,3], [0,1,2]]\n",
    "#print('linearsystem\\n', linearsystem, '\\n')\n",
    "#rhs=-1*simpleroots[[0,1,3], [3]]\n",
    "#print(rhs, '\\n')\n",
    "#solution=linearsystem.inverse()*rhs\n",
    "#print(solution,'\\n')\n"
   ]
  },
  {
   "cell_type": "code",
   "execution_count": 9,
   "id": "526202e8-f5dd-4592-a140-60cc84ff3a72",
   "metadata": {},
   "outputs": [
    {
     "name": "stdout",
     "output_type": "stream",
     "text": [
      "\n",
      "simpleroots\n",
      " [        1         0]\n",
      "[     -3/2 1/2*sqrt3]\n"
     ]
    },
    {
     "ename": "TypeError",
     "evalue": "unsupported operand parent(s) for -: '<class 'function'>' and 'Integer Ring'",
     "output_type": "error",
     "traceback": [
      "\u001b[0;31m---------------------------------------------------------------------------\u001b[0m",
      "\u001b[0;31mTypeError\u001b[0m                                 Traceback (most recent call last)",
      "Cell \u001b[0;32mIn[9], line 4\u001b[0m\n\u001b[1;32m      2\u001b[0m \u001b[38;5;28mprint\u001b[39m(\u001b[38;5;124m'\u001b[39m\u001b[38;5;130;01m\\n\u001b[39;00m\u001b[38;5;124msimpleroots\u001b[39m\u001b[38;5;130;01m\\n\u001b[39;00m\u001b[38;5;124m'\u001b[39m,simpleroots)\n\u001b[1;32m      3\u001b[0m i\u001b[38;5;241m=\u001b[39mInteger(\u001b[38;5;241m0\u001b[39m)\n\u001b[0;32m----> 4\u001b[0m all_index\u001b[38;5;241m=\u001b[39m\u001b[38;5;28mtuple\u001b[39m((ellipsis_range(Integer(\u001b[38;5;241m0\u001b[39m),\u001b[38;5;28mEllipsis\u001b[39m,\u001b[43mn\u001b[49m\u001b[38;5;241;43m-\u001b[39;49m\u001b[43mInteger\u001b[49m\u001b[43m(\u001b[49m\u001b[38;5;241;43m1\u001b[39;49m\u001b[43m)\u001b[49m)))\n\u001b[1;32m      5\u001b[0m \u001b[38;5;66;03m#print('\\nall_index\\n',all_index)\u001b[39;00m\n\u001b[1;32m      6\u001b[0m \u001b[38;5;66;03m#index=list(all_index[0:i]+all_index[i+1:n])\u001b[39;00m\n\u001b[1;32m      7\u001b[0m \u001b[38;5;28mprint\u001b[39m(\u001b[38;5;124m'\u001b[39m\u001b[38;5;130;01m\\n\u001b[39;00m\u001b[38;5;124mindex\u001b[39m\u001b[38;5;130;01m\\n\u001b[39;00m\u001b[38;5;124m'\u001b[39m,index)\n",
      "File \u001b[0;32m~/sage/sage/src/sage/rings/integer.pyx:1852\u001b[0m, in \u001b[0;36msage.rings.integer.Integer.__sub__\u001b[0;34m()\u001b[0m\n\u001b[1;32m   1850\u001b[0m         return y\n\u001b[1;32m   1851\u001b[0m \n\u001b[0;32m-> 1852\u001b[0m     return coercion_model.bin_op(left, right, operator.sub)\n\u001b[1;32m   1853\u001b[0m \n\u001b[1;32m   1854\u001b[0m cpdef _sub_(self, right):\n",
      "File \u001b[0;32m~/sage/sage/src/sage/structure/coerce.pyx:1278\u001b[0m, in \u001b[0;36msage.structure.coerce.CoercionModel.bin_op\u001b[0;34m()\u001b[0m\n\u001b[1;32m   1276\u001b[0m     # We should really include the underlying error.\n\u001b[1;32m   1277\u001b[0m     # This causes so much headache.\n\u001b[0;32m-> 1278\u001b[0m     raise bin_op_exception(op, x, y)\n\u001b[1;32m   1279\u001b[0m \n\u001b[1;32m   1280\u001b[0m cpdef canonical_coercion(self, x, y):\n",
      "\u001b[0;31mTypeError\u001b[0m: unsupported operand parent(s) for -: '<class 'function'>' and 'Integer Ring'"
     ]
    }
   ],
   "source": [
    "T=set()\n",
    "print('\\nsimpleroots\\n',simpleroots)\n",
    "i=0\n",
    "all_index=tuple([0..n-1])\n",
    "#print('\\nall_index\\n',all_index)\n",
    "#index=list(all_index[0:i]+all_index[i+1:n])\n",
    "print('\\nindex\\n',index)\n",
    "linearsystem=simpleroots[index, all_index[0:n-1]]\n",
    "print('\\nlinearsystem\\n', linearsystem, '\\n')\n",
    "if (linearsystem.rank()==n-1):\n",
    "    rhs=-1*simpleroots[index, [n-1]]\n",
    "    print('rhs', rhs, '\\n')\n",
    "    solution=linearsystem.inverse()*rhs\n",
    "    solution=solution.transpose()\n",
    "    solution=solution.list()+[1]\n",
    "    print('solution\\n', solution,'\\n',type(solution))\n",
    "else:\n",
    "    linearsystem=simpleroots[index, all_index[1:n]]\n",
    "    print('linearsystem\\n', linearsystem, '\\n')\n",
    "    rhs=-1*simpleroots[index, [0]]\n",
    "    print('rhs', rhs, '\\n')\n",
    "    solution=linearsystem.inverse()*rhs\n",
    "    solution=solution.transpose()\n",
    "    solution=solution.list()+[1]\n",
    "    print('solution\\n', solution,'\\n',type(solution))\n"
   ]
  },
  {
   "cell_type": "code",
   "execution_count": 31,
   "id": "8011415d-5c06-4e41-ada8-7367cc2fb8e3",
   "metadata": {},
   "outputs": [],
   "source": [
    "simpleroots=simplerootsG2"
   ]
  },
  {
   "cell_type": "code",
   "execution_count": 10,
   "id": "0045e3fb-98ce-49db-99b9-ade28710d34f",
   "metadata": {},
   "outputs": [
    {
     "name": "stdout",
     "output_type": "stream",
     "text": [
      "2\n",
      "all_Index\n",
      " (0, 1)\n",
      "\n",
      "\n",
      "simpleroots=\n",
      " [        1         0]\n",
      "[     -3/2 1/2*sqrt3]\n",
      "\n",
      "\n",
      "i= 0\n",
      "\n",
      "\n",
      "index= [1]\n",
      "\n",
      "\n",
      "linearsystem=\n",
      " [-3/2]\n",
      "\n",
      "=first case=\n",
      "\n",
      "\n",
      "\n",
      "rhs=\n",
      " [-1/2*sqrt3]\n",
      "\n",
      "\n",
      "solution before=\n",
      " [1/3*sqrt3]\n",
      "\n",
      "\n",
      "solution after=\n",
      " [1/3*sqrt3, 1]\n",
      "\n",
      "\n",
      "i= 1\n",
      "\n",
      "\n",
      "index= [0]\n",
      "\n",
      "\n",
      "linearsystem=\n",
      " [1]\n",
      "\n",
      "=first case=\n",
      "\n",
      "\n",
      "\n",
      "rhs=\n",
      " [0]\n",
      "\n",
      "\n",
      "solution before=\n",
      " [0]\n",
      "\n",
      "\n",
      "solution after=\n",
      " [0, 1]\n",
      "{(0, 1), (1/3*sqrt3, 1)}\n"
     ]
    }
   ],
   "source": [
    "T=set()\n",
    "n=simpleroots.rank()\n",
    "print(n)\n",
    "all_index=tuple([0..n-1])\n",
    "print('all_Index\\n', all_index)\n",
    "print('\\n\\nsimpleroots=\\n',simpleroots)\n",
    "for i in [0..n-1]:\n",
    "    print('\\n\\ni=',i)\n",
    "    index=list(all_index[0:i]+all_index[i+1:n])\n",
    "    print('\\n\\nindex=',index)\n",
    "    linearsystem=simpleroots[index, all_index[0:n-1]]\n",
    "    print('\\n\\nlinearsystem=\\n',linearsystem)\n",
    "    if (linearsystem.rank()==n-1):\n",
    "        print('\\n=first case=\\n')\n",
    "        rhs=-1*simpleroots[index, [n-1]]\n",
    "        print('\\n\\nrhs=\\n',rhs)\n",
    "        solution=linearsystem.inverse()*rhs\n",
    "        solution=solution.transpose()\n",
    "        print('\\n\\nsolution before=\\n', solution)\n",
    "        solution=solution.list()+[1]\n",
    "        print('\\n\\nsolution after=\\n', solution)\n",
    "    else:\n",
    "        print('\\n=second case=\\n')\n",
    "        linearsystem=simpleroots[index, all_index[1:n]]\n",
    "        rhs=-1*simpleroots[index, [0]]\n",
    "        print('\\n\\nrhs=\\n',rhs)\n",
    "        solution=linearsystem.inverse()*rhs\n",
    "        solution=solution.transpose()\n",
    "        print('\\n\\nsolution before=\\n', solution)\n",
    "        solution=[1]+solution.list()\n",
    "        print('\\n\\nsolution after=\\n', solution)\n",
    "    solution=tuple(solution)\n",
    "    T.add(solution)\n",
    "print(T)"
   ]
  },
  {
   "cell_type": "code",
   "execution_count": null,
   "id": "3e2ddb9f-b393-4872-914d-3fca41a1e256",
   "metadata": {},
   "outputs": [
    {
     "name": "stdout",
     "output_type": "stream",
     "text": [
      "[ 0  1 -1  0]\n",
      "\n",
      "(0, 1, -1, 0)\n",
      "<class 'sage.modules.vector_rational_dense.Vector_rational_dense'>\n",
      "[ 0  0  1 -1]\n",
      "\n",
      "(0, 0, 1, -1)\n",
      "<class 'sage.modules.vector_rational_dense.Vector_rational_dense'>\n",
      "[0 0 0 1]\n",
      "\n",
      "(0, 0, 0, 1)\n",
      "<class 'sage.modules.vector_rational_dense.Vector_rational_dense'>\n",
      "[ 1/2 -1/2 -1/2 -1/2]\n",
      "\n",
      "(1/2, -1/2, -1/2, -1/2)\n",
      "<class 'sage.modules.vector_rational_dense.Vector_rational_dense'>\n"
     ]
    }
   ],
   "source": [
    "    linearsystem=simpleroots[[0,1,3], [0,1,2]]\n",
    "for row in simpleroots:\n",
    "    print(str(matrix(QQ[sqrt(3)], list(row)))+'\\n')\n",
    "    v=vector(row)\n",
    "    print(v)\n",
    "    print(type(v))\n",
    "    #linearsystem=\n",
    "    "
   ]
  },
  {
   "cell_type": "code",
   "execution_count": null,
   "id": "f0ec53a9-33d5-4340-89db-974b8345f5b7",
   "metadata": {},
   "outputs": [],
   "source": []
  }
 ],
 "metadata": {
  "kernelspec": {
   "display_name": "SageMath 10.4.beta5",
   "language": "sage",
   "name": "sagemath"
  },
  "language_info": {
   "codemirror_mode": {
    "name": "ipython",
    "version": 3
   },
   "file_extension": ".py",
   "mimetype": "text/x-python",
   "name": "python",
   "nbconvert_exporter": "python",
   "pygments_lexer": "ipython3",
   "version": "3.10.12"
  }
 },
 "nbformat": 4,
 "nbformat_minor": 5
}
