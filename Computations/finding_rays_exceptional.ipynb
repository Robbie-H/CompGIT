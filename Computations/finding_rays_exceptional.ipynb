{
 "cells": [
  {
   "cell_type": "code",
   "execution_count": 7,
   "id": "ba3c5a94-cac4-4089-87a1-df0e6d4ac5ff",
   "metadata": {},
   "outputs": [
    {
     "name": "stdout",
     "output_type": "stream",
     "text": [
      "[        1         0]\n",
      "[     -3/2 1/2*sqrt3] \n",
      "\n",
      "[   0    1   -1    0]\n",
      "[   0    0    1   -1]\n",
      "[   0    0    0    1]\n",
      "[ 1/2 -1/2 -1/2 -1/2] \n",
      "\n"
     ]
    }
   ],
   "source": [
    "#since we are interested in the dual of the lattice where the root system lives, we will have the simple roots as rows and not columns.\n",
    "#Defining simple roots set of G2\n",
    "simplerootsG2=matrix(QQ[sqrt(3)], [[1, 0], [-3/2, sqrt(3)/2]])\n",
    "print(simplerootsG2, '\\n')\n",
    "\n",
    "#Defining simple roots set ofF4\n",
    "simplerootsF4=matrix(QQ, [[0,1,-1,0], [0,0,1,-1], [0,0,0,1], [1/2, -1/2, -1/2, -1/2]])\n",
    "print(simplerootsF4, '\\n')\n",
    "\n",
    "simplerootsE6"
   ]
  },
  {
   "cell_type": "code",
   "execution_count": 8,
   "id": "0045e3fb-98ce-49db-99b9-ade28710d34f",
   "metadata": {},
   "outputs": [],
   "source": [
    "def find_rays(simpleroots):\n",
    "    T=set()\n",
    "    n=simpleroots.rank()\n",
    "    print(n)\n",
    "    all_index=tuple([0..n-1])\n",
    "    for i in [0..n-1]:\n",
    "        index=list(all_index[0:i]+all_index[i+1:n])\n",
    "        linearsystem=simpleroots[index, all_index[0:n-1]]\n",
    "        if (linearsystem.rank()==n-1):\n",
    "            rhs=-1*simpleroots[index, [n-1]]\n",
    "            solution=linearsystem.inverse()*rhs\n",
    "            solution=solution.transpose()\n",
    "            solution=solution.list()+[1]\n",
    "        else:\n",
    "            linearsystem=simpleroots[index, all_index[1:n]]\n",
    "            rhs=-1*simpleroots[index, [0]]\n",
    "            solution=linearsystem.inverse()*rhs\n",
    "            solution=solution.transpose()\n",
    "            solution=[1]+solution.list()\n",
    "        solution=tuple(solution)\n",
    "        T.add(solution)\n",
    "    return T"
   ]
  },
  {
   "cell_type": "code",
   "execution_count": 9,
   "id": "97dc2ac4-305c-433b-9bce-ab69687cf001",
   "metadata": {},
   "outputs": [
    {
     "name": "stdout",
     "output_type": "stream",
     "text": [
      "2\n",
      "\n",
      "rays G2:\n",
      "{(0, 1), (1/3*sqrt3, 1)} \n",
      "\n",
      "4\n",
      "\n",
      "rays F4:\n",
      "{(1, 1, 0, 0), (1, 0, 0, 0), (3, 1, 1, 1), (1, 1/2, 1/2, 0)} \n",
      "\n"
     ]
    }
   ],
   "source": [
    "raysG2=find_rays(simplerootsG2);\n",
    "print(\"\\nrays G2:\")\n",
    "print(raysG2, \"\\n\")\n",
    "\n",
    "raysF4=find_rays(simplerootsF4);\n",
    "print(\"\\nrays F4:\")\n",
    "print(raysF4, \"\\n\")"
   ]
  },
  {
   "cell_type": "code",
   "execution_count": null,
   "id": "12ad7cd9-b0bc-430b-a65a-5d7a20f949f1",
   "metadata": {},
   "outputs": [],
   "source": []
  }
 ],
 "metadata": {
  "kernelspec": {
   "display_name": "SageMath 10.4.beta5",
   "language": "sage",
   "name": "sagemath"
  },
  "language_info": {
   "codemirror_mode": {
    "name": "ipython",
    "version": 3
   },
   "file_extension": ".py",
   "mimetype": "text/x-python",
   "name": "python",
   "nbconvert_exporter": "python",
   "pygments_lexer": "ipython3",
   "version": "3.10.12"
  }
 },
 "nbformat": 4,
 "nbformat_minor": 5
}
